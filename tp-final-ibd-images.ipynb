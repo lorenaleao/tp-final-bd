{
 "cells": [
  {
   "cell_type": "markdown",
   "metadata": {},
   "source": [
    "http://pythonclub.com.br/guia-rapido-comandos-sqlite3.html\n",
    "\n",
    "http://www.sqlitetutorial.net/sqlite-insert/\n",
    "\n",
    "https://pythontic.com/database/sqlite/alter%20table\n",
    "\n",
    "https://gist.github.com/nalyd88/3407891\n",
    "\n",
    "https://pynative.com/python-mysql-blob-insert-retrieve-file-image-as-a-blob-in-mysql/\n",
    "\n",
    "http://zetcode.com/python/sqlite/\n",
    "\n",
    "https://data.vision.ee.ethz.ch/cvl/rrothe/imdb-wiki/"
   ]
  },
  {
   "cell_type": "code",
   "execution_count": 1,
   "metadata": {},
   "outputs": [],
   "source": [
    "import sqlite3\n",
    "import pandas as pd\n",
    "import matplotlib.pyplot as plt"
   ]
  },
  {
   "cell_type": "code",
   "execution_count": 2,
   "metadata": {},
   "outputs": [],
   "source": [
    "conn = sqlite3.connect('imdb.db')"
   ]
  },
  {
   "cell_type": "code",
   "execution_count": 3,
   "metadata": {},
   "outputs": [],
   "source": [
    "cursor = conn.cursor()"
   ]
  },
  {
   "cell_type": "code",
   "execution_count": null,
   "metadata": {},
   "outputs": [],
   "source": [
    "addColumn = \"ALTER TABLE akas ADD COLUMN title_poster BLOB\"\n",
    "\n",
    "cursor.execute(addColumn)"
   ]
  },
  {
   "cell_type": "code",
   "execution_count": 4,
   "metadata": {},
   "outputs": [],
   "source": [
    "def readImage(filename):\n",
    "\n",
    "    fin = None\n",
    "\n",
    "    try:\n",
    "        fin = open(filename, \"rb\")\n",
    "        img = fin.read()\n",
    "        return img\n",
    "\n",
    "    except IOError as e:\n",
    "\n",
    "        print(e)\n",
    "        sys.exit(1)\n",
    "\n",
    "    finally:\n",
    "\n",
    "        if fin:\n",
    "            fin.close()"
   ]
  },
  {
   "cell_type": "code",
   "execution_count": 5,
   "metadata": {},
   "outputs": [],
   "source": [
    "def writeImage(data, filename):\n",
    "\n",
    "    fout = None\n",
    "\n",
    "    try:\n",
    "        fout = open(filename,'wb')\n",
    "        fout.write(data)\n",
    "\n",
    "    except IOError as e:\n",
    "\n",
    "        print(e)\n",
    "        sys.exit(1)\n",
    "\n",
    "    finally:\n",
    "\n",
    "        if fout:\n",
    "            fout.close()"
   ]
  },
  {
   "cell_type": "code",
   "execution_count": null,
   "metadata": {},
   "outputs": [],
   "source": [
    "df = pd.read_sql_query(\n",
    "\"\"\"\n",
    "SELECT *\n",
    "FROM akas\n",
    "WHERE title = \"O Auto da Compadecida\"\n",
    "\"\"\", conn)\n",
    "\n",
    "df"
   ]
  },
  {
   "cell_type": "code",
   "execution_count": null,
   "metadata": {},
   "outputs": [],
   "source": [
    "image_address = \"O_auto_da_compadecida.jpg\"\n",
    "data = readImage(image_address)\n",
    "binary_img = sqlite3.Binary(data)\n",
    "\n",
    "#EXAMPLE: cursor.execute(\"INSERT INTO images(data) VALUES (?)\", (binary,) )\n",
    "\n",
    "cursor.execute(\"\"\"\n",
    "    UPDATE akas SET title_poster=(?)\n",
    "    WHERE title = \"O Auto da Compadecida\"\n",
    "    \"\"\", (binary_img,))"
   ]
  },
  {
   "cell_type": "code",
   "execution_count": null,
   "metadata": {},
   "outputs": [],
   "source": [
    "cursor.execute(\"\"\"\n",
    "    SELECT title_poster \n",
    "    FROM akas \n",
    "    WHERE title = \"O Auto da Compadecida\"\n",
    "    LIMIT 1 \n",
    "    \"\"\")\n",
    "data = cursor.fetchone()[0]\n",
    "\n",
    "filename = \"1\" + image_address\n",
    "writeImage(data, filename)"
   ]
  },
  {
   "cell_type": "code",
   "execution_count": null,
   "metadata": {},
   "outputs": [],
   "source": []
  }
 ],
 "metadata": {
  "kernelspec": {
   "display_name": "Python 3",
   "language": "python",
   "name": "python3"
  },
  "language_info": {
   "codemirror_mode": {
    "name": "ipython",
    "version": 3
   },
   "file_extension": ".py",
   "mimetype": "text/x-python",
   "name": "python",
   "nbconvert_exporter": "python",
   "pygments_lexer": "ipython3",
   "version": "3.6.8"
  }
 },
 "nbformat": 4,
 "nbformat_minor": 2
}
