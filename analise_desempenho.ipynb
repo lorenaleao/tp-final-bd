{
 "cells": [
  {
   "cell_type": "markdown",
   "metadata": {},
   "source": [
    "# Tp2 - Análise de desempenho"
   ]
  },
  {
   "cell_type": "code",
   "execution_count": 4,
   "metadata": {},
   "outputs": [],
   "source": [
    "import sqlite3\n",
    "import pandas as pd\n",
    "import matplotlib.pyplot as plt\n",
    "import time"
   ]
  },
  {
   "cell_type": "markdown",
   "metadata": {},
   "source": [
    "## Criando o banco de dados"
   ]
  },
  {
   "cell_type": "markdown",
   "metadata": {},
   "source": [
    "Para executar os códigos neste notebook, é necessário possuir o banco de dados relacional do IMDB no mesmo diretório desse notebook. Caso você ainda não possua o banco de dados, você deve seguir esses passos:\n",
    "\n",
    "1. Instale o imdb-sqlite seguindo as instruções em: https://pypi.org/project/imdb-sqlite/\n",
    "2. Rode o imdb-sqlite na mesma pasta desse notebook.\n",
    "\n",
    "Caso você já possua o banco de dados, basta movê-lo para o mesmo diretório deste notebook.\n"
   ]
  },
  {
   "cell_type": "markdown",
   "metadata": {},
   "source": [
    "## Abrindo o banco de dados"
   ]
  },
  {
   "cell_type": "code",
   "execution_count": 3,
   "metadata": {},
   "outputs": [],
   "source": [
    "conn = sqlite3.connect('imdb.db')"
   ]
  },
  {
   "cell_type": "markdown",
   "metadata": {},
   "source": [
    "## Análise de desempenho"
   ]
  },
  {
   "cell_type": "markdown",
   "metadata": {},
   "source": [
    "Como utilizamos um banco de dados grande, podemos ver o impacto no tempo de execução de diferentes formas de se realizar a mesma  consulta. Nesta seção vamos analisar e comparar algumas consultas.\n",
    "\n",
    "### 1º Consulta: Seleção antes da junção Vs Junção antes da seleção"
   ]
  },
  {
   "cell_type": "code",
   "execution_count": null,
   "metadata": {},
   "outputs": [],
   "source": [
    "inicio = time.time()\n",
    "\n",
    "fim = time.time()\n",
    "print('Tempo gasto'.format(fim - inicio))"
   ]
  }
 ],
 "metadata": {
  "kernelspec": {
   "display_name": "Python 3",
   "language": "python",
   "name": "python3"
  },
  "language_info": {
   "codemirror_mode": {
    "name": "ipython",
    "version": 3
   },
   "file_extension": ".py",
   "mimetype": "text/x-python",
   "name": "python",
   "nbconvert_exporter": "python",
   "pygments_lexer": "ipython3",
   "version": "3.6.8"
  }
 },
 "nbformat": 4,
 "nbformat_minor": 2
}
